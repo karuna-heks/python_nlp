{
 "cells": [
  {
   "cell_type": "markdown",
   "metadata": {},
   "source": [
    "### Демонстрационный файл\n",
    "\n",
    "> Программа выполняет классификацию корпуса текстов \n",
    "> на основе заготовленных входных и выходных векторов\n",
    "> в БД SQLite. Настройки пути файла БД и параметры \n",
    "> обучения нейронной сети задаются файлом param.json\n",
    "\n",
    "\n",
    "**Подключение внешних библиотек:**"
   ]
  },
  {
   "cell_type": "code",
   "execution_count": 1,
   "metadata": {},
   "outputs": [],
   "source": [
    "import sys\n",
    "sys.path.append('..')\n",
    "from DbInteraction import DbInteraction\n",
    "from Param import Param\n",
    "import time\n",
    "import json\n",
    "import tensorflow as tf\n",
    "from tensorflow.keras import layers\n",
    "import numpy as np\n",
    "import matplotlib.pyplot as plt"
   ]
  },
  {
   "cell_type": "markdown",
   "metadata": {},
   "source": [
    "**Инициализация работы с БД:**"
   ]
  },
  {
   "cell_type": "code",
   "execution_count": 2,
   "metadata": {},
   "outputs": [
    {
     "name": "stdout",
     "output_type": "stream",
     "text": [
      "Готово!\n"
     ]
    }
   ],
   "source": [
    "p = Param('../param.json') #инициализация класса с параметрами работы\n",
    "pathToDB = p.getPathToDBForReport()\n",
    "db = DbInteraction() #иниц. класса для работы с БД\n",
    "db.initNNAnalysis(pathToDB) # отправка в него пути к БД\n",
    "db.addInfo() # добавить новую строку\n",
    "actualNumberOfData = db.getInfoSize() # узнать номер последней строки\n",
    "print('Готово!')"
   ]
  },
  {
   "cell_type": "markdown",
   "metadata": {},
   "source": [
    "**Получение дополнительных параметров для работы и отчета:**"
   ]
  },
  {
   "cell_type": "code",
   "execution_count": 3,
   "metadata": {},
   "outputs": [
    {
     "name": "stdout",
     "output_type": "stream",
     "text": [
      "Готово!\n"
     ]
    }
   ],
   "source": [
    "t = time.localtime()\n",
    "compilationTime = \"{0}.{1}.{2} {3}:{4}\".format(t.tm_year, t.tm_mon, \n",
    "                                               t.tm_mday, t.tm_hour, \n",
    "                                               t.tm_min)\n",
    "inputSize = db.getInfoData('dictionarySize', 1)[0][0]\n",
    "outputSize = db.getInfoData('numOfTopics', 1)[0][0]\n",
    "corpusSize = db.getInfoData('numOfTexts', 1)[0][0]\n",
    "print('Готово!')"
   ]
  },
  {
   "cell_type": "markdown",
   "metadata": {},
   "source": [
    "**Настройка объекта для последовательного извлечения \n",
    "входных и выходных данных:**"
   ]
  },
  {
   "cell_type": "code",
   "execution_count": 4,
   "metadata": {},
   "outputs": [
    {
     "name": "stdout",
     "output_type": "stream",
     "text": [
      "Готово!\n"
     ]
    }
   ],
   "source": [
    "c = db.getConnectionData()\n",
    "ds = tf.data.Dataset.from_generator(\n",
    "    db.generator(corpusSize, db.getDataCorpusName(), 'inputVector', 'outputVector'),\n",
    "    output_types=(tf.float64, tf.float64),\n",
    "    output_shapes=(tf.TensorShape((inputSize, )), tf.TensorShape((outputSize, ))))\n",
    "print('Готово!')"
   ]
  },
  {
   "cell_type": "markdown",
   "metadata": {},
   "source": [
    "**Разделение данных на обучающую и тестовую:**"
   ]
  },
  {
   "cell_type": "code",
   "execution_count": 5,
   "metadata": {},
   "outputs": [
    {
     "name": "stdout",
     "output_type": "stream",
     "text": [
      "Готово!\n"
     ]
    }
   ],
   "source": [
    "ds = ds.shuffle(buffer_size=corpusSize,\n",
    "                reshuffle_each_iteration=True)\n",
    "trainSize = int(corpusSize*p.getTrainPercentage()/100)\n",
    "ds_train = ds.take(trainSize)\n",
    "ds_val = ds.skip(trainSize)\n",
    "ds = None\n",
    "\n",
    "ds_train = ds_train.batch(30)\n",
    "ds_val = ds_val.batch(30)\n",
    "print('Готово!')"
   ]
  },
  {
   "cell_type": "markdown",
   "metadata": {},
   "source": [
    "**Формирование и подготовка нейронной сети:**"
   ]
  },
  {
   "cell_type": "code",
   "execution_count": 6,
   "metadata": {},
   "outputs": [
    {
     "name": "stdout",
     "output_type": "stream",
     "text": [
      "Готово!\n"
     ]
    }
   ],
   "source": [
    "model = tf.keras.Sequential()\n",
    "\n",
    "model.add(layers.Dense(inputSize, activation='relu'))\n",
    "model.add(layers.Dense(20, activation='relu'))\n",
    "model.add(layers.Dense(20, activation='relu'))\n",
    "model.add(layers.Dense(outputSize, activation='softmax'))\n",
    "\n",
    "model.compile(optimizer=tf.keras.optimizers.RMSprop(0.01),\n",
    "              loss=tf.keras.losses.CategoricalCrossentropy(),\n",
    "              metrics=[tf.keras.metrics.CategoricalAccuracy()])\n",
    "print('Готово!')"
   ]
  },
  {
   "cell_type": "markdown",
   "metadata": {},
   "source": [
    "**Начало процесса обучения сети:**"
   ]
  },
  {
   "cell_type": "code",
   "execution_count": 7,
   "metadata": {},
   "outputs": [
    {
     "name": "stdout",
     "output_type": "stream",
     "text": [
      "Epoch 1/100\n",
      "1/1 [==============================] - 1s 570ms/step - loss: 1.3872 - categorical_accuracy: 0.2857 - val_loss: 5.4315 - val_categorical_accuracy: 0.4286\n",
      "Epoch 2/100\n",
      "1/1 [==============================] - 0s 71ms/step - loss: 4.8069 - categorical_accuracy: 0.3571 - val_loss: 1.4919 - val_categorical_accuracy: 0.0000e+00\n",
      "Epoch 3/100\n",
      "1/1 [==============================] - 0s 78ms/step - loss: 3.4647e-04 - categorical_accuracy: 1.0000 - val_loss: 2.9011e-04 - val_categorical_accuracy: 1.0000\n",
      "Epoch 45/100\n",
      "1/1 [==============================] - 0s 74ms/step - loss: 2.9955e-04 - categorical_accuracy: 1.0000 - val_loss: 2.8674e-04 - val_categorical_accuracy: 1.0000\n"
     ]
    },
    {
     "name": "stdout",
     "output_type": "stream",
     "text": [
      "Epoch 46/100\n",
      "1/1 [==============================] - 0s 73ms/step - loss: 1.8840e-04 - categorical_accuracy: 1.0000 - val_loss: 1.5373e-04 - val_categorical_accuracy: 1.0000\n",
      "Epoch 47/100\n",
      "1/1 [==============================] - 0s 76ms/step - loss: 1.0243e-05 - categorical_accuracy: 1.0000 - val_loss: 1.5020e-05 - val_categorical_accuracy: 1.0000\n",
      "Epoch 93/100\n"
     ]
    },
    {
     "name": "stdout",
     "output_type": "stream",
     "text": [
      "1/1 [==============================] - 0s 76ms/step - loss: 9.1024e-06 - categorical_accuracy: 1.0000 - val_loss: 4.8876e-06 - val_categorical_accuracy: 1.0000\n",
      "Epoch 94/100\n",
      "1/1 [==============================] - 0s 72ms/step - loss: 6.9567e-06 - categorical_accuracy: 1.0000 - val_loss: 7.0844e-06 - val_categorical_accuracy: 1.0000\n",
      "Epoch 100/100\n",
      "1/1 [==============================] - 0s 63ms/step - loss: 8.0040e-06 - categorical_accuracy: 1.0000 - val_loss: 3.9850e-06 - val_categorical_accuracy: 1.0000\n",
      "Готово!\n"
     ]
    }
   ],
   "source": [
    "startTime = time.time() \n",
    "history = model.fit(ds_train,\n",
    "                    epochs=100,\n",
    "                    validation_data=ds_val)\n",
    "endTime = time.time() \n",
    "print('Готово!')"
   ]
  },
  {
   "cell_type": "markdown",
   "metadata": {},
   "source": [
    "**Построение графиков для отчета:**"
   ]
  },
  {
   "cell_type": "code",
   "execution_count": 8,
   "metadata": {},
   "outputs": [
    {
     "data": {
      "image/png": "[encoded data removed]",
      "text/plain": [
       "<Figure size 1152x720 with 1 Axes>"
      ]
     },
     "metadata": {
      "needs_background": "light"
     },
     "output_type": "display_data"
    },
    {
     "data": {
      "image/png": "[encoded data removed]",
      "text/plain": [
       "<Figure size 1152x720 with 1 Axes>"
      ]
     },
     "metadata": {
      "needs_background": "light"
     },
     "output_type": "display_data"
    }
   ],
   "source": [
    "#summarize history for accuracy\n",
    "plt.figure(figsize=(16, 10))\n",
    "plt.plot(history.history['val_categorical_accuracy'])\n",
    "plt.plot(history.history['categorical_accuracy'])\n",
    "plt.title('model accuracy')\n",
    "plt.ylabel('accuracy')\n",
    "plt.xlabel('epoch')\n",
    "plt.legend(['val_categorical_accuracy', 'categorical_accuracy'], loc='upper left')\n",
    "plt.grid(True)\n",
    "plt.show()\n",
    "\n",
    "#summarize history for loss\n",
    "plt.figure(figsize=(16, 10))\n",
    "plt.plot(history.history['loss'])\n",
    "plt.plot(history.history['val_loss'])\n",
    "plt.title('model loss')\n",
    "plt.ylabel('loss')\n",
    "plt.xlabel('epoch')\n",
    "plt.legend(['loss', 'val_loss'], loc='upper left')\n",
    "plt.grid(True)\n",
    "plt.show()"
   ]
  },
  {
   "cell_type": "markdown",
   "metadata": {},
   "source": [
    "**Подготовка данных для отчета:**"
   ]
  },
  {
   "cell_type": "code",
   "execution_count": 11,
   "metadata": {},
   "outputs": [
    {
     "name": "stdout",
     "output_type": "stream",
     "text": [
      "Готово!\n"
     ]
    }
   ],
   "source": [
    "resultFull = json.dumps(history.history)\n",
    "resultFull = resultFull.replace('\"', '\"\"') \n",
    "catAccArray = history.history['categorical_accuracy']\n",
    "resultVal1 = json.dumps(catAccArray[len(catAccArray)-1]) \n",
    "# <- last model accuracy categorical_accuracy\n",
    "valCatAccArray = history.history['val_categorical_accuracy']\n",
    "resultVal2 = json.dumps(valCatAccArray[len(valCatAccArray)-1]) \n",
    "# <- last val accuracy val_categorical_accuracy\n",
    "learningTime = json.dumps(endTime-startTime)\n",
    "compilationTime2 = \"{0}-{1}-{2} {3}-{4}\".format(t.tm_year, t.tm_mon, \n",
    "                                               t.tm_mday, t.tm_hour, \n",
    "                                               t.tm_min)\n",
    "nameOfSavedModel = \"model_\"+p.readName()+\"_\"+compilationTime2+\".h5\"\n",
    "neuralNetworkStruct = json.dumps(nameOfSavedModel)\n",
    "neuralNetworkStruct = neuralNetworkStruct.replace('\"', '') \n",
    "model.save(\"../savedModels/\"+nameOfSavedModel)\n",
    "print('Готово!')"
   ]
  },
  {
   "cell_type": "markdown",
   "metadata": {},
   "source": [
    "**Сохранение результатов работы программы в БД:**"
   ]
  },
  {
   "cell_type": "code",
   "execution_count": 12,
   "metadata": {},
   "outputs": [
    {
     "name": "stdout",
     "output_type": "stream",
     "text": [
      "Готово!\n"
     ]
    }
   ],
   "source": [
    "db.updateInfo('resultVal1', resultVal1, actualNumberOfData)\n",
    "db.updateInfo('resultVal2', resultVal2, actualNumberOfData)\n",
    "db.updateInfo('resultFull', resultFull, actualNumberOfData)\n",
    "db.updateInfo('learningTime', learningTime, actualNumberOfData)\n",
    "db.updateInfo('compilationTime', compilationTime, actualNumberOfData)\n",
    "db.updateInfo('neuralNetworkStruct', neuralNetworkStruct, actualNumberOfData)\n",
    "print('Готово!')"
   ]
  }
 ],
 "metadata": {
  "kernelspec": {
   "display_name": "Python 3",
   "language": "python",
   "name": "python3"
  },
  "language_info": {
   "codemirror_mode": {
    "name": "ipython",
    "version": 3
   },
   "file_extension": ".py",
   "mimetype": "text/x-python",
   "name": "python",
   "nbconvert_exporter": "python",
   "pygments_lexer": "ipython3",
   "version": "3.7.6"
  }
 },
 "nbformat": 4,
 "nbformat_minor": 4
}
