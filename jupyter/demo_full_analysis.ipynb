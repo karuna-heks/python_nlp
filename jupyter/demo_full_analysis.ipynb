{
 "cells": [
  {
   "cell_type": "markdown",
   "metadata": {},
   "source": [
    "### Демонстрационный файл\n",
    "\n",
    "> Программа выполняет полный анализ текстового корпуса:\n",
    "> извлечение признаков, фильтрация текста, обработка слов,\n",
    "> составление вектора. Полученные данные сохраняются в БД.\n",
    "> Далее, выполняется классификация выбранного корпуса текстов\n",
    "> на основе полученных входных и выходных векторов.\n",
    "> Все параметры для настройки системы анализа текстовой \n",
    "> информации задаются файлом param.json\n",
    "\n",
    "\n",
    "**Подключение внешних библиотек:**"
   ]
  },
  {
   "cell_type": "code",
   "execution_count": 2,
   "metadata": {},
   "outputs": [],
   "source": [
    "import sys\n",
    "sys.path.append('..')\n",
    "from DbInteraction import DbInteraction\n",
    "from Param import Param\n",
    "from OpenTexts import OpenTexts\n",
    "from CorpusParser import CorpusParser\n",
    "from Dictionary import Dictionary\n",
    "from Vectorizer import Vectorizer\n",
    "from CorpusAnalyzer import CorpusAnalyzer\n",
    "import time\n",
    "import json\n",
    "import tensorflow as tf\n",
    "from tensorflow.keras import layers\n",
    "import numpy as np\n",
    "import matplotlib.pyplot as plt"
   ]
  },
  {
   "cell_type": "markdown",
   "metadata": {},
   "source": [
    "**Инициализация работы с БД:**"
   ]
  },
  {
   "cell_type": "code",
   "execution_count": 5,
   "metadata": {},
   "outputs": [
    {
     "name": "stdout",
     "output_type": "stream",
     "text": [
      "Готово!\n"
     ]
    }
   ],
   "source": [
    "t = time.localtime()\n",
    "compilationTime = \"{0}.{1}.{2} {3}:{4}\".format(t.tm_year, t.tm_mon, \n",
    "                                               t.tm_mday, t.tm_hour, \n",
    "                                               t.tm_min)\n",
    "\n",
    "p = Param('../param.json') #инициализация класса с параметрами работы\n",
    "db = DbInteraction() #иниц. класса для работы с БД\n",
    "db.initFullAnalysis(p.readDBCorpusPath()) #иниц. класса для работы с БД\n",
    "# отправка в него пути к БД\n",
    "corpusID = db.getCorpusID() #сохранение актуального ID, который\n",
    "# является индексом строки в БД\n",
    "db.updateCorpus('name', p.readName(), corpusID) #добавление начальной инфо\n",
    "# рмации о корпусе. данные считываются с параметров и отправляются\n",
    "db.updateCorpus('language', p.readLanguage(), corpusID) #\n",
    "db.updateCorpus('stemType', p.readStemType(), corpusID) #\n",
    "db.updateCorpus('stopWordsType', p.readStopWordsType(), corpusID) #\n",
    "db.updateCorpus('metric', p.readMetric(), corpusID) #\n",
    "db.updateCorpus('compilationTime', compilationTime, corpusID)\n",
    "\n",
    "\n",
    "db.addInfo()\n",
    "db.updateInfo('name', p.readName(), 1) #добавление начальной инфо\n",
    "# рмации о корпусе. данные считываются с параметров и отправляются\n",
    "db.updateInfo('language', p.readLanguage(), 1)\n",
    "db.updateInfo('stemType', p.readStemType(), 1)\n",
    "db.updateInfo('stopWordsType', p.readStopWordsType(), 1)\n",
    "db.updateInfo('metric', p.readMetric(), 1)\n",
    "db.updateInfo('corpus_ID', corpusID, 1)\n",
    "db.updateInfo('compilationTime', compilationTime, 1)\n",
    "print('Готово!')"
   ]
  },
  {
   "cell_type": "markdown",
   "metadata": {},
   "source": [
    "**Получение списка используемых текстов и отправка имени текста, \n",
    "имени темы и исходного текста в БД:**"
   ]
  },
  {
   "cell_type": "code",
   "execution_count": 6,
   "metadata": {},
   "outputs": [
    {
     "name": "stdout",
     "output_type": "stream",
     "text": [
      "Готово!\n"
     ]
    }
   ],
   "source": [
    "analyzer = CorpusAnalyzer() # аналайзер дополняет БД оставшимися данными\n",
    "\n",
    "op = OpenTexts(p.readDocCorpusPath()) # иниц. класса для работы с исходными\n",
    "# текстами\n",
    "op.searchFolder() # выбор метода для своего типа исходных данных \n",
    "# (поиск папок с файлами, файлов с текстами или другой)  \n",
    "# searchFolder, searchTxt, searchAlt\n",
    "# !!! мб перенести выбор метода в json параметры. а внутри класса пусть\n",
    "# сам определяет, какой метод надо использовать, на основе параметров \n",
    "while(op.hasNext()): # проверка на наличие следующего текста\n",
    "    tempData = op.getNext() # извлечение базовой информации из \n",
    "    # файла, сохранение в словаре\n",
    "    lastID = db.addTexts() # добавление новой строки в бд для \n",
    "    # информации по текстам и возврат её номера\n",
    "    db.updateTexts('name', tempData['name'], lastID) # обновление \n",
    "    # данных в соответствующей строке\n",
    "    db.updateTexts('topicName', tempData['topicName'], lastID) #\n",
    "    db.updateTexts('baseText', tempData['baseText'], lastID) #\n",
    "    \n",
    "    analyzer.addTopicName(tempData['topicName'])\n",
    "    db.updateTexts('topicNum', analyzer.getTopicNum(tempData['topicName']), lastID)\n",
    "    # <- аналайзер необходим, для получения списка используемых топиков.\n",
    "    # он запоминает имена топиков, присваивает им имена и, в данном месте,\n",
    "    # отправляет имена в БД, для отчётности и для дальнейшего формирования\n",
    "    # выходного вектора.\n",
    "print('Готово!')"
   ]
  },
  {
   "cell_type": "markdown",
   "metadata": {},
   "source": [
    "**Обновление таблицы БД со списком тем для отчётности:**"
   ]
  },
  {
   "cell_type": "code",
   "execution_count": 7,
   "metadata": {},
   "outputs": [
    {
     "name": "stdout",
     "output_type": "stream",
     "text": [
      "Готово!\n"
     ]
    }
   ],
   "source": [
    "for name, val, i in zip(analyzer.getList().keys(), \n",
    "                     analyzer.getList().values(),\n",
    "                     range(analyzer.getNumOfTopics())):\n",
    "    db.addTopicList() # добавление новой строки в бд для списка топиков\n",
    "    db.updateTopicList('name', name, i+1)\n",
    "    db.updateTopicList('topicNum', val, i+1)\n",
    "    db.updateTopicList('numOfTexts', analyzer.getTopicCount(name), i+1)\n",
    "    # <- обновление информации в таблице со списком топиков\n",
    "    # общая информация, для отчетности\n",
    "print('Готово!')"
   ]
  },
  {
   "cell_type": "markdown",
   "metadata": {},
   "source": [
    "**Фильтрация исходных текстов. Отправка обработанных текстов в БД:**"
   ]
  },
  {
   "cell_type": "code",
   "execution_count": 8,
   "metadata": {},
   "outputs": [
    {
     "name": "stdout",
     "output_type": "stream",
     "text": [
      "Готово\n"
     ]
    }
   ],
   "source": [
    "parser = CorpusParser(language = p.readLanguage(), \n",
    "                      stemType = p.readStemType(),\n",
    "                      stopWordsType = p.readStopWordsType)\n",
    "tempText = ''\n",
    "for i in range(db.getTextsSize()):\n",
    "    tempText = db.getTextsData('baseText', i+1)[0][0]\n",
    "    tempText = parser.parsing(tempText)\n",
    "    db.updateTexts('formattedText', tempText, i+1)\n",
    "# <- выполняется полный проход по всем сырым текстам в бд\n",
    "# забираются сырые тексты, отправляются на очистку\n",
    "# возвращаются тексты после фильтрации и отправляются в БД обратно\n",
    "print('Готово!')"
   ]
  },
  {
   "cell_type": "markdown",
   "metadata": {},
   "source": [
    "**Фомирование общего словаря для всех текстов и отправка\n",
    "словаря в БД:**"
   ]
  },
  {
   "cell_type": "code",
   "execution_count": 9,
   "metadata": {},
   "outputs": [
    {
     "name": "stdout",
     "output_type": "stream",
     "text": [
      "Готово!\n"
     ]
    }
   ],
   "source": [
    "d = Dictionary()\n",
    "for i in range(db.getTextsSize()):\n",
    "    d.addData(db.getTextsData('formattedText', i+1)[0][0])\n",
    "    tempDict = d.getLastDictionary()\n",
    "    tempStr = json.dumps(tempDict)\n",
    "    tempStr = tempStr.replace('\"', '\"\"') \n",
    "    db.updateTexts('localDictionary', tempStr, i+1)\n",
    "    # <- добавление в БД локальных словарей в виде json строки\n",
    "print('Готово!')"
   ]
  },
  {
   "cell_type": "markdown",
   "metadata": {},
   "source": [
    "**Обновление общей информации, для отчётности:**"
   ]
  },
  {
   "cell_type": "code",
   "execution_count": 10,
   "metadata": {},
   "outputs": [
    {
     "name": "stdout",
     "output_type": "stream",
     "text": [
      "Готово!\n"
     ]
    }
   ],
   "source": [
    "if p.saveDictionary == True:\n",
    "    tempDict = d.getGlobalDictionary()\n",
    "    for key, val in tempDict.items():\n",
    "        lastID = db.addDictionary()\n",
    "        db.updateDictionary('word', key, lastID)\n",
    "        db.updateDictionary('value', val, lastID)\n",
    "        # <- добавление глобального словаря в бд, целиком\n",
    "        #!!! нужно пофиксить. работает слишком медленно\n",
    "   \n",
    "    \n",
    "  \n",
    "inputSize = d.getGlobalSize()\n",
    "outputSize = db.getTopicListSize()\n",
    "corpusSize = db.getTextsSize()\n",
    "\n",
    "db.updateCorpus('numOfTopics', outputSize, corpusID)\n",
    "db.updateInfo('numOfTopics', outputSize, 1)\n",
    "db.updateCorpus('numOfTexts', corpusSize, corpusID)\n",
    "db.updateInfo('numOfTexts', corpusSize, 1)\n",
    "db.updateCorpus('dictionarySize', inputSize, corpusID)\n",
    "db.updateInfo('dictionarySize', inputSize, 1)\n",
    "# <- обновление общей информации в БД (для отчетности)\n",
    "print('Готово!')"
   ]
  },
  {
   "cell_type": "markdown",
   "metadata": {},
   "source": [
    "**Фомирование входных и выходных векторов к каждому тексту,\n",
    "отправка их в БД:**"
   ]
  },
  {
   "cell_type": "code",
   "execution_count": 11,
   "metadata": {},
   "outputs": [
    {
     "name": "stdout",
     "output_type": "stream",
     "text": [
      "Готово!\n"
     ]
    }
   ],
   "source": [
    "v = Vectorizer()\n",
    "v.addGlobDict(d.getGlobalDictionary())\n",
    "for i in range(db.getTextsSize()):\n",
    "    tempStr = db.getTextsData('localDictionary', i+1)[0][0]\n",
    "    tempDict = json.loads(tempStr)\n",
    "    tempArray = v.getVecFromDict(tempDict)\n",
    "    tempStr = json.dumps(tempArray)\n",
    "    db.updateTexts('inputVector', tempStr, i+1)\n",
    "    # <- инициализация векторизатора, отправка глобального словаря в \n",
    "    # него, извлечение из бд локального словаря, преобразование \n",
    "    # его из json-строки в стандартный словарь отправка словаря \n",
    "    # в векторизатор, получение массива преобразование массива \n",
    "    # в json-строку и отправка обратно в бд\n",
    "    topicNum = db.getTextsData('topicNum', i+1)[0][0]\n",
    "    db.updateTexts('outputVector', \n",
    "                   json.dumps(v.numToOutputVec(topicNum, outputSize)),\n",
    "                   i+1)\n",
    "    # <- извлечение номера топика для формирования входного вектора\n",
    "    # и отправки этого вектора в БД\n",
    "print('Готово!')"
   ]
  },
  {
   "cell_type": "markdown",
   "metadata": {},
   "source": [
    "**Настройка объекта для последовательного извлечения \n",
    "входных и выходных данных:**"
   ]
  },
  {
   "cell_type": "code",
   "execution_count": 12,
   "metadata": {},
   "outputs": [
    {
     "name": "stdout",
     "output_type": "stream",
     "text": [
      "Готово!\n"
     ]
    }
   ],
   "source": [
    "c = db.getConnectionData()\n",
    "ds = tf.data.Dataset.from_generator(\n",
    "    db.generator(corpusSize, db.getDataCorpusName(), 'inputVector', 'outputVector'),\n",
    "    output_types=(tf.float64, tf.float64),\n",
    "    output_shapes=(tf.TensorShape((inputSize, )), tf.TensorShape((outputSize, ))))\n",
    "    # <- использование генератора, который содержит весь набор данных и \n",
    "    # извлекает их, по необходимости\n",
    "print('Готово!')"
   ]
  },
  {
   "cell_type": "markdown",
   "metadata": {},
   "source": [
    "**Разделение данных на обучающую и тестовую:**"
   ]
  },
  {
   "cell_type": "code",
   "execution_count": 13,
   "metadata": {},
   "outputs": [
    {
     "name": "stdout",
     "output_type": "stream",
     "text": [
      "Готово!\n"
     ]
    }
   ],
   "source": [
    "ds = ds.shuffle(buffer_size=corpusSize,\n",
    "                reshuffle_each_iteration=True)\n",
    "trainSize = int(corpusSize*p.getTrainPercentage()/100)\n",
    "ds_train = ds.take(trainSize)\n",
    "ds_val = ds.skip(trainSize)\n",
    "ds = None\n",
    "ds_train = ds_train.batch(30)\n",
    "ds_val = ds_val.batch(30)\n",
    "print('Готово!')"
   ]
  },
  {
   "cell_type": "markdown",
   "metadata": {},
   "source": [
    "**Формирование и подготовка нейронной сети:**"
   ]
  },
  {
   "cell_type": "code",
   "execution_count": 14,
   "metadata": {},
   "outputs": [
    {
     "name": "stdout",
     "output_type": "stream",
     "text": [
      "Готово!\n"
     ]
    }
   ],
   "source": [
    "model = tf.keras.Sequential()\n",
    "\n",
    "model.add(layers.Dense(inputSize, activation='relu'))\n",
    "model.add(layers.Dense(20, activation='relu'))\n",
    "model.add(layers.Dense(20, activation='relu'))\n",
    "model.add(layers.Dense(outputSize, activation='softmax'))\n",
    "\n",
    "model.compile(optimizer=tf.keras.optimizers.RMSprop(0.01),\n",
    "              loss=tf.keras.losses.CategoricalCrossentropy(),\n",
    "              metrics=[tf.keras.metrics.CategoricalAccuracy()])\n",
    "print('Готово!')"
   ]
  },
  {
   "cell_type": "markdown",
   "metadata": {},
   "source": [
    "**Начало процесса обучения сети:**"
   ]
  },
  {
   "cell_type": "code",
   "execution_count": 15,
   "metadata": {},
   "outputs": [
    {
     "name": "stdout",
     "output_type": "stream",
     "text": [
      "Epoch 1/100\n",
      "WARNING:tensorflow:Layer dense is casting an input tensor from dtype float64 to the layer's dtype of float32, which is new behavior in TensorFlow 2.  The layer has dtype float32 because it's dtype defaults to floatx.\n",
      "\n",
      "If you intended to run this layer in float32, you can safely ignore this warning. If in doubt, this warning is likely only an issue if you are porting a TensorFlow 1.X model to TensorFlow 2.\n",
      "\n",
      "To change all layers to have dtype float64 by default, call `tf.keras.backend.set_floatx('float64')`. To change just this layer, pass dtype='float64' to the layer constructor. If you are the author of this layer, you can disable autocasting by passing autocast=False to the base Layer constructor.\n",
      "\n",
      "1/1 [==============================] - 1s 522ms/step - loss: 1.3869 - categorical_accuracy: 0.2143 - val_loss: 1.8686 - val_categorical_accuracy: 0.5714\n",
      "Epoch 2/100\n",
      "1/1 [==============================] - 0s 71ms/step - loss: 1.9626 - categorical_accuracy: 0.4286 - val_loss: 5.4087 - val_categorical_accuracy: 0.2857\n",
      "Epoch 3/100\n",
      "1/1 [==============================] - 0s 68ms/step - loss: 5.8971 - categorical_accuracy: 0.2857 - val_loss: 1.4713 - val_categorical_accuracy: 0.4286\n",
      "Epoch 4/100\n",
      "1/1 [==============================] - 0s 75ms/step - loss: 1.3244 - categorical_accuracy: 0.5000 - val_loss: 0.8357 - val_categorical_accuracy: 1.0000\n",
      "Epoch 5/100\n",
      "1/1 [==============================] - 0s 75ms/step - loss: 0.8578 - categorical_accuracy: 1.0000 - val_loss: 0.4926 - val_categorical_accuracy: 1.0000\n",
      "Epoch 6/100\n",
      "1/1 [==============================] - 0s 79ms/step - loss: 0.5176 - categorical_accuracy: 0.9286 - val_loss: 0.2842 - val_categorical_accuracy: 0.8571\n",
      "Epoch 7/100\n",
      "1/1 [==============================] - 0s 70ms/step - loss: 0.3247 - categorical_accuracy: 0.8571 - val_loss: 0.2316 - val_categorical_accuracy: 1.0000\n",
      "Epoch 8/100\n",
      "1/1 [==============================] - 0s 73ms/step - loss: 0.2308 - categorical_accuracy: 1.0000 - val_loss: 0.0889 - val_categorical_accuracy: 1.0000\n",
      "Epoch 9/100\n",
      "1/1 [==============================] - 0s 71ms/step - loss: 0.0679 - categorical_accuracy: 1.0000 - val_loss: 0.0415 - val_categorical_accuracy: 1.0000\n",
      "Epoch 10/100\n",
      "1/1 [==============================] - 0s 74ms/step - loss: 0.0375 - categorical_accuracy: 1.0000 - val_loss: 0.0140 - val_categorical_accuracy: 1.0000\n",
      "Epoch 11/100\n",
      "1/1 [==============================] - 0s 80ms/step - loss: 0.0254 - categorical_accuracy: 1.0000 - val_loss: 0.0192 - val_categorical_accuracy: 1.0000\n",
      "Epoch 12/100\n",
      "1/1 [==============================] - 0s 78ms/step - loss: 0.0127 - categorical_accuracy: 1.0000 - val_loss: 0.0040 - val_categorical_accuracy: 1.0000\n",
      "Epoch 13/100\n",
      "1/1 [==============================] - 0s 78ms/step - loss: 0.0090 - categorical_accuracy: 1.0000 - val_loss: 0.0076 - val_categorical_accuracy: 1.0000\n",
      "Epoch 14/100\n",
      "1/1 [==============================] - 0s 71ms/step - loss: 0.0063 - categorical_accuracy: 1.0000 - val_loss: 0.0061 - val_categorical_accuracy: 1.0000\n",
      "Epoch 15/100\n",
      "1/1 [==============================] - 0s 68ms/step - loss: 0.0052 - categorical_accuracy: 1.0000 - val_loss: 0.0063 - val_categorical_accuracy: 1.0000\n",
      "Epoch 16/100\n",
      "1/1 [==============================] - 0s 73ms/step - loss: 0.0040 - categorical_accuracy: 1.0000 - val_loss: 0.0032 - val_categorical_accuracy: 1.0000\n",
      "Epoch 17/100\n",
      "1/1 [==============================] - 0s 86ms/step - loss: 0.0040 - categorical_accuracy: 1.0000 - val_loss: 0.0036 - val_categorical_accuracy: 1.0000\n",
      "Epoch 18/100\n",
      "1/1 [==============================] - 0s 71ms/step - loss: 0.0033 - categorical_accuracy: 1.0000 - val_loss: 0.0024 - val_categorical_accuracy: 1.0000\n",
      "Epoch 19/100\n",
      "1/1 [==============================] - 0s 85ms/step - loss: 0.0021 - categorical_accuracy: 1.0000 - val_loss: 0.0024 - val_categorical_accuracy: 1.0000\n",
      "Epoch 20/100\n",
      "1/1 [==============================] - 0s 75ms/step - loss: 0.0019 - categorical_accuracy: 1.0000 - val_loss: 0.0017 - val_categorical_accuracy: 1.0000\n",
      "Epoch 21/100\n",
      "1/1 [==============================] - 0s 74ms/step - loss: 0.0017 - categorical_accuracy: 1.0000 - val_loss: 0.0023 - val_categorical_accuracy: 1.0000\n",
      "Epoch 22/100\n",
      "1/1 [==============================] - 0s 71ms/step - loss: 0.0017 - categorical_accuracy: 1.0000 - val_loss: 0.0016 - val_categorical_accuracy: 1.0000\n",
      "Epoch 23/100\n",
      "1/1 [==============================] - 0s 74ms/step - loss: 0.0012 - categorical_accuracy: 1.0000 - val_loss: 0.0013 - val_categorical_accuracy: 1.0000\n",
      "Epoch 24/100\n",
      "1/1 [==============================] - 0s 80ms/step - loss: 0.0013 - categorical_accuracy: 1.0000 - val_loss: 0.0015 - val_categorical_accuracy: 1.0000\n",
      "Epoch 25/100\n",
      "1/1 [==============================] - 0s 72ms/step - loss: 9.2574e-04 - categorical_accuracy: 1.0000 - val_loss: 7.5799e-04 - val_categorical_accuracy: 1.0000\n",
      "Epoch 26/100\n",
      "1/1 [==============================] - 0s 76ms/step - loss: 0.0012 - categorical_accuracy: 1.0000 - val_loss: 3.4048e-04 - val_categorical_accuracy: 1.0000\n",
      "Epoch 27/100\n",
      "1/1 [==============================] - 0s 83ms/step - loss: 7.3469e-04 - categorical_accuracy: 1.0000 - val_loss: 7.2831e-04 - val_categorical_accuracy: 1.0000\n",
      "Epoch 28/100\n",
      "1/1 [==============================] - 0s 81ms/step - loss: 8.0504e-04 - categorical_accuracy: 1.0000 - val_loss: 6.6758e-04 - val_categorical_accuracy: 1.0000\n",
      "Epoch 29/100\n",
      "1/1 [==============================] - 0s 66ms/step - loss: 7.7380e-04 - categorical_accuracy: 1.0000 - val_loss: 5.4391e-04 - val_categorical_accuracy: 1.0000\n",
      "Epoch 30/100\n",
      "1/1 [==============================] - 0s 79ms/step - loss: 5.1501e-04 - categorical_accuracy: 1.0000 - val_loss: 5.9618e-04 - val_categorical_accuracy: 1.0000\n",
      "Epoch 31/100\n",
      "1/1 [==============================] - 0s 69ms/step - loss: 5.0932e-04 - categorical_accuracy: 1.0000 - val_loss: 5.7364e-04 - val_categorical_accuracy: 1.0000\n",
      "Epoch 32/100\n",
      "1/1 [==============================] - 0s 63ms/step - loss: 4.2497e-04 - categorical_accuracy: 1.0000 - val_loss: 5.7045e-04 - val_categorical_accuracy: 1.0000\n",
      "Epoch 33/100\n",
      "1/1 [==============================] - 0s 81ms/step - loss: 4.6661e-04 - categorical_accuracy: 1.0000 - val_loss: 4.3691e-04 - val_categorical_accuracy: 1.0000\n",
      "Epoch 34/100\n",
      "1/1 [==============================] - 0s 72ms/step - loss: 3.1864e-04 - categorical_accuracy: 1.0000 - val_loss: 4.4266e-04 - val_categorical_accuracy: 1.0000\n",
      "Epoch 35/100\n",
      "1/1 [==============================] - 0s 79ms/step - loss: 4.8329e-04 - categorical_accuracy: 1.0000 - val_loss: 3.0818e-04 - val_categorical_accuracy: 1.0000\n",
      "Epoch 36/100\n",
      "1/1 [==============================] - 0s 75ms/step - loss: 3.7407e-04 - categorical_accuracy: 1.0000 - val_loss: 3.5659e-04 - val_categorical_accuracy: 1.0000\n",
      "Epoch 37/100\n",
      "1/1 [==============================] - 0s 76ms/step - loss: 3.0401e-04 - categorical_accuracy: 1.0000 - val_loss: 3.0431e-04 - val_categorical_accuracy: 1.0000\n",
      "Epoch 38/100\n",
      "1/1 [==============================] - 0s 79ms/step - loss: 2.8377e-04 - categorical_accuracy: 1.0000 - val_loss: 3.5635e-04 - val_categorical_accuracy: 1.0000\n",
      "Epoch 39/100\n",
      "1/1 [==============================] - 0s 75ms/step - loss: 2.2568e-04 - categorical_accuracy: 1.0000 - val_loss: 2.3250e-04 - val_categorical_accuracy: 1.0000\n",
      "Epoch 40/100\n",
      "1/1 [==============================] - 0s 64ms/step - loss: 2.8149e-04 - categorical_accuracy: 1.0000 - val_loss: 1.3087e-04 - val_categorical_accuracy: 1.0000\n",
      "Epoch 41/100\n",
      "1/1 [==============================] - 0s 75ms/step - loss: 2.1627e-04 - categorical_accuracy: 1.0000 - val_loss: 2.4218e-04 - val_categorical_accuracy: 1.0000\n",
      "Epoch 42/100\n",
      "1/1 [==============================] - 0s 65ms/step - loss: 1.9419e-04 - categorical_accuracy: 1.0000 - val_loss: 1.6708e-04 - val_categorical_accuracy: 1.0000\n",
      "Epoch 43/100\n",
      "1/1 [==============================] - 0s 64ms/step - loss: 1.1314e-04 - categorical_accuracy: 1.0000 - val_loss: 1.4563e-04 - val_categorical_accuracy: 1.0000\n",
      "Epoch 44/100\n",
      "1/1 [==============================] - 0s 77ms/step - loss: 1.8187e-04 - categorical_accuracy: 1.0000 - val_loss: 1.8270e-04 - val_categorical_accuracy: 1.0000\n",
      "Epoch 45/100\n"
     ]
    },
    {
     "name": "stdout",
     "output_type": "stream",
     "text": [
      "1/1 [==============================] - 0s 58ms/step - loss: 1.1499e-04 - categorical_accuracy: 1.0000 - val_loss: 9.5342e-05 - val_categorical_accuracy: 1.0000\n",
      "Epoch 46/100\n",
      "1/1 [==============================] - 0s 58ms/step - loss: 1.6492e-04 - categorical_accuracy: 1.0000 - val_loss: 1.4516e-04 - val_categorical_accuracy: 1.0000\n",
      "Epoch 47/100\n",
      "1/1 [==============================] - 0s 72ms/step - loss: 1.7866e-04 - categorical_accuracy: 1.0000 - val_loss: 1.6512e-04 - val_categorical_accuracy: 1.0000\n",
      "Epoch 48/100\n",
      "1/1 [==============================] - 0s 72ms/step - loss: 1.5340e-04 - categorical_accuracy: 1.0000 - val_loss: 1.4223e-04 - val_categorical_accuracy: 1.0000\n",
      "Epoch 49/100\n",
      "1/1 [==============================] - 0s 76ms/step - loss: 1.2885e-04 - categorical_accuracy: 1.0000 - val_loss: 1.7280e-04 - val_categorical_accuracy: 1.0000\n",
      "Epoch 50/100\n",
      "1/1 [==============================] - 0s 69ms/step - loss: 1.3222e-04 - categorical_accuracy: 1.0000 - val_loss: 1.5327e-04 - val_categorical_accuracy: 1.0000\n",
      "Epoch 51/100\n",
      "1/1 [==============================] - 0s 69ms/step - loss: 1.3102e-04 - categorical_accuracy: 1.0000 - val_loss: 7.4978e-05 - val_categorical_accuracy: 1.0000\n",
      "Epoch 52/100\n",
      "1/1 [==============================] - 0s 74ms/step - loss: 1.1626e-04 - categorical_accuracy: 1.0000 - val_loss: 5.5344e-05 - val_categorical_accuracy: 1.0000\n",
      "Epoch 53/100\n",
      "1/1 [==============================] - 0s 63ms/step - loss: 9.4874e-05 - categorical_accuracy: 1.0000 - val_loss: 1.0134e-04 - val_categorical_accuracy: 1.0000\n",
      "Epoch 54/100\n",
      "1/1 [==============================] - 0s 78ms/step - loss: 6.2777e-05 - categorical_accuracy: 1.0000 - val_loss: 6.4727e-05 - val_categorical_accuracy: 1.0000\n",
      "Epoch 55/100\n",
      "1/1 [==============================] - 0s 81ms/step - loss: 7.1316e-05 - categorical_accuracy: 1.0000 - val_loss: 6.8217e-05 - val_categorical_accuracy: 1.0000\n",
      "Epoch 56/100\n",
      "1/1 [==============================] - 0s 73ms/step - loss: 8.3671e-05 - categorical_accuracy: 1.0000 - val_loss: 6.9342e-05 - val_categorical_accuracy: 1.0000\n",
      "Epoch 57/100\n",
      "1/1 [==============================] - 0s 77ms/step - loss: 5.6290e-05 - categorical_accuracy: 1.0000 - val_loss: 6.5987e-05 - val_categorical_accuracy: 1.0000\n",
      "Epoch 58/100\n",
      "1/1 [==============================] - 0s 73ms/step - loss: 6.8056e-05 - categorical_accuracy: 1.0000 - val_loss: 4.8516e-05 - val_categorical_accuracy: 1.0000\n",
      "Epoch 59/100\n",
      "1/1 [==============================] - 0s 72ms/step - loss: 5.2041e-05 - categorical_accuracy: 1.0000 - val_loss: 6.7196e-05 - val_categorical_accuracy: 1.0000\n",
      "Epoch 60/100\n",
      "1/1 [==============================] - 0s 70ms/step - loss: 5.2331e-05 - categorical_accuracy: 1.0000 - val_loss: 6.6856e-05 - val_categorical_accuracy: 1.0000\n",
      "Epoch 61/100\n",
      "1/1 [==============================] - 0s 58ms/step - loss: 4.0751e-05 - categorical_accuracy: 1.0000 - val_loss: 5.1667e-05 - val_categorical_accuracy: 1.0000\n",
      "Epoch 62/100\n",
      "1/1 [==============================] - 0s 72ms/step - loss: 4.5834e-05 - categorical_accuracy: 1.0000 - val_loss: 4.6847e-05 - val_categorical_accuracy: 1.0000\n",
      "Epoch 63/100\n",
      "1/1 [==============================] - 0s 72ms/step - loss: 4.4914e-05 - categorical_accuracy: 1.0000 - val_loss: 5.5583e-05 - val_categorical_accuracy: 1.0000\n",
      "Epoch 64/100\n",
      "1/1 [==============================] - 0s 70ms/step - loss: 4.5110e-05 - categorical_accuracy: 1.0000 - val_loss: 6.1237e-05 - val_categorical_accuracy: 1.0000\n",
      "Epoch 65/100\n",
      "1/1 [==============================] - 0s 68ms/step - loss: 4.5153e-05 - categorical_accuracy: 1.0000 - val_loss: 5.3029e-05 - val_categorical_accuracy: 1.0000\n",
      "Epoch 66/100\n",
      "1/1 [==============================] - 0s 72ms/step - loss: 3.6273e-05 - categorical_accuracy: 1.0000 - val_loss: 2.7298e-05 - val_categorical_accuracy: 1.0000\n",
      "Epoch 67/100\n",
      "1/1 [==============================] - 0s 80ms/step - loss: 4.2275e-05 - categorical_accuracy: 1.0000 - val_loss: 2.0555e-05 - val_categorical_accuracy: 1.0000\n",
      "Epoch 68/100\n",
      "1/1 [==============================] - 0s 63ms/step - loss: 3.5106e-05 - categorical_accuracy: 1.0000 - val_loss: 2.5221e-05 - val_categorical_accuracy: 1.0000\n",
      "Epoch 69/100\n",
      "1/1 [==============================] - 0s 77ms/step - loss: 2.4880e-05 - categorical_accuracy: 1.0000 - val_loss: 3.6085e-05 - val_categorical_accuracy: 1.0000\n",
      "Epoch 70/100\n",
      "1/1 [==============================] - 0s 66ms/step - loss: 3.0346e-05 - categorical_accuracy: 1.0000 - val_loss: 3.7363e-05 - val_categorical_accuracy: 1.0000\n",
      "Epoch 71/100\n",
      "1/1 [==============================] - 0s 71ms/step - loss: 2.6540e-05 - categorical_accuracy: 1.0000 - val_loss: 2.0980e-05 - val_categorical_accuracy: 1.0000\n",
      "Epoch 72/100\n",
      "1/1 [==============================] - 0s 80ms/step - loss: 2.6983e-05 - categorical_accuracy: 1.0000 - val_loss: 2.4948e-05 - val_categorical_accuracy: 1.0000\n",
      "Epoch 73/100\n",
      "1/1 [==============================] - 0s 73ms/step - loss: 2.2292e-05 - categorical_accuracy: 1.0000 - val_loss: 1.2636e-05 - val_categorical_accuracy: 1.0000\n",
      "Epoch 74/100\n",
      "1/1 [==============================] - 0s 65ms/step - loss: 1.6970e-05 - categorical_accuracy: 1.0000 - val_loss: 2.7315e-05 - val_categorical_accuracy: 1.0000\n",
      "Epoch 75/100\n",
      "1/1 [==============================] - 0s 66ms/step - loss: 2.2956e-05 - categorical_accuracy: 1.0000 - val_loss: 2.7094e-05 - val_categorical_accuracy: 1.0000\n",
      "Epoch 76/100\n",
      "1/1 [==============================] - 0s 71ms/step - loss: 2.1432e-05 - categorical_accuracy: 1.0000 - val_loss: 1.5974e-05 - val_categorical_accuracy: 1.0000\n",
      "Epoch 77/100\n",
      "1/1 [==============================] - 0s 74ms/step - loss: 2.2581e-05 - categorical_accuracy: 1.0000 - val_loss: 1.8188e-05 - val_categorical_accuracy: 1.0000\n",
      "Epoch 78/100\n",
      "1/1 [==============================] - 0s 74ms/step - loss: 1.4824e-05 - categorical_accuracy: 1.0000 - val_loss: 1.4629e-05 - val_categorical_accuracy: 1.0000\n",
      "Epoch 79/100\n",
      "1/1 [==============================] - 0s 58ms/step - loss: 1.6110e-05 - categorical_accuracy: 1.0000 - val_loss: 9.1620e-06 - val_categorical_accuracy: 1.0000\n",
      "Epoch 80/100\n",
      "1/1 [==============================] - 0s 67ms/step - loss: 1.5293e-05 - categorical_accuracy: 1.0000 - val_loss: 1.5276e-05 - val_categorical_accuracy: 1.0000\n",
      "Epoch 81/100\n",
      "1/1 [==============================] - 0s 78ms/step - loss: 1.4467e-05 - categorical_accuracy: 1.0000 - val_loss: 1.9346e-05 - val_categorical_accuracy: 1.0000\n",
      "Epoch 82/100\n",
      "1/1 [==============================] - 0s 70ms/step - loss: 1.5301e-05 - categorical_accuracy: 1.0000 - val_loss: 1.2006e-05 - val_categorical_accuracy: 1.0000\n",
      "Epoch 83/100\n",
      "1/1 [==============================] - 0s 72ms/step - loss: 1.1035e-05 - categorical_accuracy: 1.0000 - val_loss: 8.9747e-06 - val_categorical_accuracy: 1.0000\n",
      "Epoch 84/100\n",
      "1/1 [==============================] - 0s 79ms/step - loss: 1.4697e-05 - categorical_accuracy: 1.0000 - val_loss: 1.5276e-05 - val_categorical_accuracy: 1.0000\n",
      "Epoch 85/100\n",
      "1/1 [==============================] - 0s 82ms/step - loss: 1.2611e-05 - categorical_accuracy: 1.0000 - val_loss: 1.1154e-05 - val_categorical_accuracy: 1.0000\n",
      "Epoch 86/100\n",
      "1/1 [==============================] - 0s 72ms/step - loss: 1.1401e-05 - categorical_accuracy: 1.0000 - val_loss: 1.4339e-05 - val_categorical_accuracy: 1.0000\n",
      "Epoch 87/100\n",
      "1/1 [==============================] - 0s 70ms/step - loss: 1.0192e-05 - categorical_accuracy: 1.0000 - val_loss: 1.3573e-05 - val_categorical_accuracy: 1.0000\n",
      "Epoch 88/100\n",
      "1/1 [==============================] - 0s 77ms/step - loss: 1.0448e-05 - categorical_accuracy: 1.0000 - val_loss: 5.8412e-06 - val_categorical_accuracy: 1.0000\n",
      "Epoch 89/100\n",
      "1/1 [==============================] - 0s 72ms/step - loss: 1.1137e-05 - categorical_accuracy: 1.0000 - val_loss: 1.0678e-05 - val_categorical_accuracy: 1.0000\n",
      "Epoch 90/100\n",
      "1/1 [==============================] - 0s 74ms/step - loss: 8.8044e-06 - categorical_accuracy: 1.0000 - val_loss: 8.7363e-06 - val_categorical_accuracy: 1.0000\n",
      "Epoch 91/100\n",
      "1/1 [==============================] - 0s 77ms/step - loss: 9.6559e-06 - categorical_accuracy: 1.0000 - val_loss: 7.3058e-06 - val_categorical_accuracy: 1.0000\n",
      "Epoch 92/100\n"
     ]
    },
    {
     "name": "stdout",
     "output_type": "stream",
     "text": [
      "1/1 [==============================] - 0s 75ms/step - loss: 9.6133e-06 - categorical_accuracy: 1.0000 - val_loss: 8.6171e-06 - val_categorical_accuracy: 1.0000\n",
      "Epoch 93/100\n",
      "1/1 [==============================] - 0s 71ms/step - loss: 6.3181e-06 - categorical_accuracy: 1.0000 - val_loss: 4.6321e-06 - val_categorical_accuracy: 1.0000\n",
      "Epoch 94/100\n",
      "1/1 [==============================] - 0s 72ms/step - loss: 5.8497e-06 - categorical_accuracy: 1.0000 - val_loss: 7.3058e-06 - val_categorical_accuracy: 1.0000\n",
      "Epoch 95/100\n",
      "1/1 [==============================] - 0s 59ms/step - loss: 8.1998e-06 - categorical_accuracy: 1.0000 - val_loss: 7.0674e-06 - val_categorical_accuracy: 1.0000\n",
      "Epoch 96/100\n",
      "1/1 [==============================] - 0s 73ms/step - loss: 5.5432e-06 - categorical_accuracy: 1.0000 - val_loss: 7.4761e-06 - val_categorical_accuracy: 1.0000\n",
      "Epoch 97/100\n",
      "1/1 [==============================] - 0s 79ms/step - loss: 6.7183e-06 - categorical_accuracy: 1.0000 - val_loss: 5.5517e-06 - val_categorical_accuracy: 1.0000\n",
      "Epoch 98/100\n",
      "1/1 [==============================] - 0s 70ms/step - loss: 5.2707e-06 - categorical_accuracy: 1.0000 - val_loss: 3.6784e-06 - val_categorical_accuracy: 1.0000\n",
      "Epoch 99/100\n",
      "1/1 [==============================] - 0s 62ms/step - loss: 4.9472e-06 - categorical_accuracy: 1.0000 - val_loss: 3.8147e-06 - val_categorical_accuracy: 1.0000\n",
      "Epoch 100/100\n",
      "1/1 [==============================] - 0s 76ms/step - loss: 4.8365e-06 - categorical_accuracy: 1.0000 - val_loss: 4.5640e-06 - val_categorical_accuracy: 1.0000\n",
      "Готово!\n"
     ]
    }
   ],
   "source": [
    "history = model.fit(ds_train,\n",
    "                    epochs=100,\n",
    "                    validation_data=ds_val)\n",
    "print('Готово!')"
   ]
  },
  {
   "cell_type": "markdown",
   "metadata": {},
   "source": [
    "**Построение графиков для отчета:**"
   ]
  },
  {
   "cell_type": "code",
   "execution_count": 16,
   "metadata": {},
   "outputs": [
    {
     "data": {
      "image/png": "[encoded data removed]",
      "text/plain": [
       "<Figure size 1152x720 with 1 Axes>"
      ]
     },
     "metadata": {
      "needs_background": "light"
     },
     "output_type": "display_data"
    },
    {
     "data": {
      "image/png": "[encoded data removed]",
      "text/plain": [
       "<Figure size 1152x720 with 1 Axes>"
      ]
     },
     "metadata": {
      "needs_background": "light"
     },
     "output_type": "display_data"
    },
    {
     "name": "stdout",
     "output_type": "stream",
     "text": [
      "Готово!\n"
     ]
    }
   ],
   "source": [
    "#summarize history for accuracy\n",
    "plt.figure(figsize=(16, 10))\n",
    "plt.plot(history.history['val_categorical_accuracy'])\n",
    "plt.plot(history.history['categorical_accuracy'])\n",
    "plt.title('model accuracy')\n",
    "plt.ylabel('accuracy')\n",
    "plt.xlabel('epoch')\n",
    "plt.legend(['val_categorical_accuracy', 'categorical_accuracy'], loc='upper left')\n",
    "plt.grid(True)\n",
    "plt.show()\n",
    "\n",
    "#summarize history for loss\n",
    "plt.figure(figsize=(16, 10))\n",
    "plt.plot(history.history['loss'])\n",
    "plt.plot(history.history['val_loss'])\n",
    "plt.title('model loss')\n",
    "plt.ylabel('loss')\n",
    "plt.xlabel('epoch')\n",
    "plt.legend(['loss', 'val_loss'], loc='upper left')\n",
    "plt.grid(True)\n",
    "plt.show()\n",
    "print('Готово!')"
   ]
  }
 ],
 "metadata": {
  "kernelspec": {
   "display_name": "Python 3",
   "language": "python",
   "name": "python3"
  },
  "language_info": {
   "codemirror_mode": {
    "name": "ipython",
    "version": 3
   },
   "file_extension": ".py",
   "mimetype": "text/x-python",
   "name": "python",
   "nbconvert_exporter": "python",
   "pygments_lexer": "ipython3",
   "version": "3.7.6"
  }
 },
 "nbformat": 4,
 "nbformat_minor": 4
}
